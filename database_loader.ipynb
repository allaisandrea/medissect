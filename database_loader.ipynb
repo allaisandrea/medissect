{
 "cells": [
  {
   "cell_type": "markdown",
   "metadata": {},
   "source": [
    "0:  Unique identifier\n",
    "1:  Last name / organization\n",
    "2:  First name\n",
    "3:  Middle initial\n",
    "4:  Credential (example: \"\", \"M.D.\", \"D.O.\", \"MD\",\"DO\", \"OTR\", \"D.C.\")\n",
    "5:  Gender\n",
    "6:  Entity (\"I\" for individual, \"O\" for organization)\n",
    "7:  Address line 1\n",
    "8:  Address line 2\n",
    "9:  City\n",
    "10: Zip\n",
    "11: State\n",
    "12: Country\n",
    "13: Specialty (\"Internal Medicine\", \"Pathology\")\n",
    "14: Participates in medicare (\"Y\" or \"N\")\n",
    "15: Place of service (\"F\" for facility or \"O\" for other)\n",
    "16: HCPCS code (a procedure code)\n",
    "17: HCPCS code description\n",
    "18: HCPCS drug indicator (\"Y\" or \"N\")\n",
    "19: Line service count (people, hours, miles)\n",
    "20: Beneficiary unique count (unique person, unique service)\n",
    "21: Beneficiary day service count (unique person, multiple services per day)\n",
    "22: Average medicare allowed amount\n",
    "23: Standard deviation\n",
    "24: Average submitted charges amount\n",
    "25: Standard deviation\n",
    "26: Average medicare payment amount\n",
    "27: Standard deviation"
   ]
  },
  {
   "cell_type": "code",
   "execution_count": 14,
   "metadata": {
    "collapsed": false
   },
   "outputs": [],
   "source": [
    "# Counting procedures, building dictionaries:\n",
    "from collections import Counter\n",
    "code_dictionary = dict()\n",
    "provider_dictionary = dict()\n",
    "procedure_ctr = Counter()\n",
    "\n",
    "infile = open(\"provider_utilization_2013.txt\",\"r\")\n",
    "line = infile.readline()\n",
    "line = infile.readline()\n",
    "c = 0\n",
    "max_lengths = [0 for i in range(0, 28)]\n",
    "\n",
    "while True or c < 1000000:\n",
    "    line = infile.readline()\n",
    "    if(line == \"\"):\n",
    "        break\n",
    "    tokens = line.split(\"\\t\")\n",
    "    code_dictionary[tokens[16]] = tokens[17]\n",
    "    provider_dictionary[tokens[0]] = tokens[1:16]\n",
    "    procedure_ctr[tokens[16]] += int(tokens[20])\n",
    "    for i in range(0, 28):\n",
    "        if len(tokens[i])> max_lengths[i]:\n",
    "            max_lengths[i] = len(tokens[i])\n",
    "    c+=1\n",
    "infile.close()"
   ]
  },
  {
   "cell_type": "code",
   "execution_count": null,
   "metadata": {
    "collapsed": false
   },
   "outputs": [],
   "source": [
    "# Load the procedure descriptor table (commented for safety)\n",
    "import django\n",
    "import os\n",
    "os.environ.setdefault(\"DJANGO_SETTINGS_MODULE\", \"medissect.settings\")\n",
    "django.setup()\n",
    "from explorer.models import ProcedureDescriptor\n",
    "from django.db import IntegrityError\n",
    "for c in code_dictionary:\n",
    "    q = ProcedureDescriptor(code = c, descriptor = code_dictionary[c])\n",
    "    try:\n",
    "        q.save()\n",
    "    except IntegrityError:\n",
    "        print \"Probably a double entry: \" + c"
   ]
  },
  {
   "cell_type": "code",
   "execution_count": 17,
   "metadata": {
    "collapsed": false
   },
   "outputs": [],
   "source": [
    "from geopy.geocoders import GoogleV3\n",
    "geolocator = GoogleV3()\n",
    "c = 0\n",
    "for code in provider_dictionary:\n",
    "    c += 1\n",
    "    if c > 100:\n",
    "        break\n",
    "    tokens = provider_dictionary[code]\n",
    "    if len(tokens) == 15:\n",
    "        address = tokens[6].title() + \" \" + tokens[8].title() + \", \" + tokens[10]\n",
    "        location = geolocator.geocode(address)\n",
    "        if location:\n",
    "            provider_dictionary[code] += [location.longitude, location.latitude]\n",
    "        else:\n",
    "            print address"
   ]
  },
  {
   "cell_type": "code",
   "execution_count": 18,
   "metadata": {
    "collapsed": false
   },
   "outputs": [],
   "source": [
    "import django\n",
    "import os\n",
    "os.environ.setdefault(\"DJANGO_SETTINGS_MODULE\", \"medissect.settings\")\n",
    "django.setup()\n",
    "from explorer.models import Provider\n",
    "from django.db import IntegrityError\n",
    "Provider.objects.all().delete()\n",
    "for code in provider_dictionary:\n",
    "    token = provider_dictionary[code]\n",
    "    if len(token) == 17:\n",
    "        q = Provider(\n",
    "            npi = int(code),\n",
    "            last_name = token[0].title(),\n",
    "            first_name = token[1].title(),\n",
    "            middle_initial = token[2],\n",
    "            credentials = token[3],\n",
    "            gender = token[4],\n",
    "            is_organization = (token[5] == 'O'),\n",
    "            street1 = token[6].title(),\n",
    "            street2 = token[7].title(),\n",
    "            city = token[8].title(),\n",
    "            zipcode = token[9],\n",
    "            state = token[10],\n",
    "            country = token[11],\n",
    "            medicare_participant = (token[13] == 'Y'),\n",
    "            at_facility = (token[14] == 'F'),\n",
    "            longitude = token[15],\n",
    "            latitude = token[16]\n",
    "        )\n",
    "        try:\n",
    "            q.save()\n",
    "        except IntegrityError:\n",
    "            print \"Probably a double entry: \" + code\n",
    "        "
   ]
  },
  {
   "cell_type": "code",
   "execution_count": 16,
   "metadata": {
    "collapsed": false
   },
   "outputs": [
    {
     "name": "stdout",
     "output_type": "stream",
     "text": [
      "(-74.049097, 40.735924)\n",
      "(-70.9592096, 42.0334341)\n",
      "(-81.6211125, 41.5025982)\n",
      "(-88.23230099999999, 43.014546)\n",
      "(-92.8743008, 44.7465199)\n",
      "(-117.9300468, 33.6247428)\n",
      "(-90.06048299999999, 30.001112)\n"
     ]
    }
   ],
   "source": [
    "for code in provider_dictionary:\n",
    "    token = provider_dictionary[code]\n",
    "    if len(token) == 17:\n",
    "        print(token[15], token[16])"
   ]
  }
 ],
 "metadata": {
  "kernelspec": {
   "display_name": "Python 2",
   "language": "python",
   "name": "python2"
  },
  "language_info": {
   "codemirror_mode": {
    "name": "ipython",
    "version": 2
   },
   "file_extension": ".py",
   "mimetype": "text/x-python",
   "name": "python",
   "nbconvert_exporter": "python",
   "pygments_lexer": "ipython2",
   "version": "2.7.6"
  }
 },
 "nbformat": 4,
 "nbformat_minor": 0
}
