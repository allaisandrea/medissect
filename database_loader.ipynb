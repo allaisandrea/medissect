{
 "cells": [
  {
   "cell_type": "code",
   "execution_count": 6,
   "metadata": {
    "collapsed": false
   },
   "outputs": [],
   "source": [
    "import django\n",
    "import os\n",
    "os.environ.setdefault(\"DJANGO_SETTINGS_MODULE\", \"medissect.settings\")\n",
    "django.setup()"
   ]
  },
  {
   "cell_type": "code",
   "execution_count": 7,
   "metadata": {
    "collapsed": false
   },
   "outputs": [],
   "source": [
    "# Counting procedures, building dictionaries:\n",
    "from collections import Counter\n",
    "code_dictionary = dict()\n",
    "provider_dictionary = dict()\n",
    "procedure_ctr = Counter()\n",
    "\n",
    "infile = open(\"provider_utilization_2013.txt\",\"r\")\n",
    "line = infile.readline()\n",
    "line = infile.readline()\n",
    "while (True):\n",
    "    line = infile.readline()\n",
    "    if(line == \"\"):\n",
    "        break\n",
    "    tokens = line.split(\"\\t\")\n",
    "    code_dictionary[tokens[16]] = tokens[17]\n",
    "    provider_dictionary[tokens[0]] = tokens[1] + \", \" + tokens[2] + \" \" + tokens[9] + \", \" + tokens[11]\n",
    "    procedure_ctr[tokens[16]] += int(tokens[20])\n",
    "infile.close()"
   ]
  },
  {
   "cell_type": "code",
   "execution_count": 8,
   "metadata": {
    "collapsed": true
   },
   "outputs": [],
   "source": [
    "# Load the procedure descriptor table (commented for safety)\n",
    "#from explorer.models import ProcedureDescriptor\n",
    "#for c in code_dictionary:\n",
    "#    q = ProcedureDescriptor(code = c, descriptor = code_dictionary[c])\n",
    "#    q.save()"
   ]
  }
 ],
 "metadata": {
  "kernelspec": {
   "display_name": "Python 2",
   "language": "python",
   "name": "python2"
  },
  "language_info": {
   "codemirror_mode": {
    "name": "ipython",
    "version": 2
   },
   "file_extension": ".py",
   "mimetype": "text/x-python",
   "name": "python",
   "nbconvert_exporter": "python",
   "pygments_lexer": "ipython2",
   "version": "2.7.6"
  }
 },
 "nbformat": 4,
 "nbformat_minor": 0
}
